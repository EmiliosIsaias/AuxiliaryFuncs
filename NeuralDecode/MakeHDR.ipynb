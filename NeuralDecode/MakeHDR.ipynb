{
 "cells": [
  {
   "cell_type": "code",
   "execution_count": null,
   "id": "0b2b2f5a",
   "metadata": {},
   "outputs": [],
   "source": [
    "import cv2 as cv\n",
    "import numpy as np\n",
    "import pathlib as pl\n",
    "import matplotlib.pyplot as plt\n",
    "\n",
    "imgs_dir = pl.Path(r\"D:\\2022\\Nepal\\Nepal\\\\\")\n",
    "imgs_nm = [\"/_MG_9{}.png\".format(x) for x in range(507,510)]\n",
    "#imgs_nm = [\"/_MG_9209.png\",\"/_MG_9210.png\",\"/_MG_9211.png\"]\n",
    "imgs_fn = [imgs_dir.as_posix() + im for im in imgs_nm]\n",
    "\n",
    "img_list = [cv.imread(fn) for fn in imgs_fn]\n",
    "\n",
    "alignMTB = cv.createAlignMTB()\n",
    "alignMTB.process(img_list, img_list)"
   ]
  },
  {
   "cell_type": "code",
   "execution_count": null,
   "id": "c2713e0b",
   "metadata": {},
   "outputs": [],
   "source": [
    "merge_mertens = cv.createMergeMertens()\n",
    "res_mertens = merge_mertens.process(img_list)"
   ]
  },
  {
   "cell_type": "code",
   "execution_count": null,
   "id": "e29665ba",
   "metadata": {},
   "outputs": [],
   "source": [
    "res_mertens_8bit = np.clip(res_mertens*255, 0, 255).astype('uint8')\n",
    "plt.imshow(res_mertens_8bit)"
   ]
  },
  {
   "cell_type": "code",
   "execution_count": null,
   "id": "d51acddf",
   "metadata": {},
   "outputs": [],
   "source": [
    "cv.imwrite(imgs_dir.as_posix() + \"/_MG_9507_HDR.png\",res_mertens_8bit)"
   ]
  }
 ],
 "metadata": {
  "kernelspec": {
   "display_name": "Python 3 (ipykernel)",
   "language": "python",
   "name": "python3"
  },
  "language_info": {
   "codemirror_mode": {
    "name": "ipython",
    "version": 3
   },
   "file_extension": ".py",
   "mimetype": "text/x-python",
   "name": "python",
   "nbconvert_exporter": "python",
   "pygments_lexer": "ipython3",
   "version": "3.10.6"
  }
 },
 "nbformat": 4,
 "nbformat_minor": 5
}
