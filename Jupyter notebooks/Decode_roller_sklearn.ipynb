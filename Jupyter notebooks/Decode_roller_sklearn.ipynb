{
 "cells": [
  {
   "cell_type": "markdown",
   "metadata": {
    "colab_type": "text",
    "id": "view-in-github"
   },
   "source": [
    "<a href=\"https://colab.research.google.com/github/KordingLab/Neural_Decoding/blob/classifiers/central_concepts_in_ML_for_decoding.ipynb\" target=\"_parent\"><img src=\"https://colab.research.google.com/assets/colab-badge.svg\" alt=\"Open In Colab\"/></a>"
   ]
  },
  {
   "cell_type": "markdown",
   "metadata": {
    "colab_type": "text",
    "id": "w2FCVtm3EhuL"
   },
   "source": [
    "# Decoding neural activity\n",
    "_Machine learning for mind reading_\n",
    "\n",
    "This tutorial introduces concepts that are central to the practice of decoding neural activity using machine learning (or any method). We will make heavy use of our [Python package for neural decoding](https://github.com/KordingLab/Neural_Decoding).\n",
    "\n",
    "This tutorial accompanies these [lecture slides](https://).\n",
    "\n",
    "The solutions to the exercises can be found in [this completed Colab](https://colab.research.google.com/drive/1SxXwmTgW2Ro34BQEy91zOXHs9JhMqcBJ).\n",
    "\n",
    "### Outline\n",
    "\n",
    "1. Overfitting\n",
    "2. Crossvalidation\n",
    "3. Regularization\n",
    "4. Applying recurrent neural networks\n",
    "5. What methods work best and when?"
   ]
  },
  {
   "cell_type": "markdown",
   "metadata": {
    "colab_type": "text",
    "id": "ufp0LsaTwe5B"
   },
   "source": [
    "## Preliminaries\n",
    "\n",
    "Import modules and simulate data"
   ]
  },
  {
   "cell_type": "code",
   "execution_count": 43,
   "metadata": {
    "colab": {},
    "colab_type": "code",
    "id": "ih_NKq_Xn98m"
   },
   "outputs": [],
   "source": [
    "#Import standard packages\n",
    "import numpy as np\n",
    "import matplotlib.pyplot as plt\n",
    "%matplotlib inline\n",
    "from scipy import io\n",
    "from scipy import stats\n",
    "from scipy.signal import windows\n",
    "import pickle\n",
    "import pathlib as pl\n",
    "from sklearn import linear_model\n",
    "from sklearn import model_selection\n",
    "\n",
    "\n",
    "# If you would prefer to load the '.h5' example file rather than the '.pickle' example file. You need the deepdish package\n",
    "# import deepdish as dd \n",
    "\n",
    "#Import function to get the covariate matrix that includes spike history from previous bins\n",
    "from Neural_Decoding.preprocessing_funcs import get_spikes_with_history\n",
    "from Neural_Decoding.preprocessing_funcs import bin_spikes\n",
    "from Neural_Decoding.preprocessing_funcs import bin_output\n",
    "\n",
    "#Import metrics\n",
    "from Neural_Decoding.metrics import get_R2\n",
    "from Neural_Decoding.metrics import get_rho\n",
    "\n",
    "#Import decoder functions\n",
    "from Neural_Decoding.decoders import WienerCascadeDecoder\n",
    "from Neural_Decoding.decoders import WienerFilterDecoder\n",
    "from Neural_Decoding.decoders import DenseNNDecoder\n",
    "from Neural_Decoding.decoders import SimpleRNNDecoder\n",
    "from Neural_Decoding.decoders import GRUDecoder\n",
    "from Neural_Decoding.decoders import LSTMDecoder\n",
    "from Neural_Decoding.decoders import XGBoostDecoder\n",
    "from Neural_Decoding.decoders import SVRDecoder\n",
    "\n",
    "#Turn off deprecation warnings\n",
    "\n",
    "import warnings\n",
    "warnings.filterwarnings(\"ignore\", category=DeprecationWarning) \n",
    "\n",
    "# folder='' #ENTER THE FOLDER THAT YOUR DATA IS IN\n",
    "# folder='/home/jglaser/Data/DecData/' \n",
    "folder=pl.Path(r'Z:\\Emilio\\SuperiorColliculusExperiments\\Roller\\Batch2_ephys\\MC\\GAD18\\211205_C\\ephys_F\\\\')\n",
    "#folder=pl.Path(r'Z:\\Emilio\\Decoding\\\\')\n",
    "folder=folder.as_posix()\n",
    "\n",
    "#with open(folder+'/example_data_s1.pickle','rb') as f:\n",
    "with open(folder+'/GADi18_decod.pickle','rb') as f:\n",
    "    #spike_times,vels,unitID,fr,fs,vel_times=pickle.load(f,encoding='latin1') #If using python 3\n",
    "    neural_data,vels,unitID,fr,fs=pickle.load(f,encoding='latin1') #If using python 3\n",
    "fs = float(fs)\n",
    "n_neurons = 59\n",
    "n_bins_per_trial = 75"
   ]
  },
  {
   "cell_type": "markdown",
   "metadata": {
    "colab_type": "text",
    "id": "6zqKK3iOwK6X"
   },
   "source": [
    "### Let's simulate some data"
   ]
  },
  {
   "cell_type": "markdown",
   "metadata": {
    "colab_type": "text",
    "id": "euk_r7MYJ9PS"
   },
   "source": [
    "#### Exercise 0: Look at the distribution of neural activity \n",
    "\n",
    "Let's gain an intuition for the data. Plot out the average neural activity for each of the two choices. \n",
    "\n",
    "Average across trials **and** neurons — we're going to assume they have the same response properties. Then, plot out the averages for trials with a choices of 0 vs a choice of 1.\n",
    "\n",
    "If you have extra time, overlay the standard deviations."
   ]
  },
  {
   "cell_type": "markdown",
   "metadata": {
    "colab_type": "text",
    "id": "JhQtKkGZgrvB"
   },
   "source": [
    "## 1. Overfitting\n",
    "\n",
    "<img src='https://cdn-images-1.medium.com/max/1600/1*SBUK2QEfCP-zvJmKm14wGQ.png' />\n",
    "\n",
    "In common parlance, we call a classifier or regressor 'overfit' when it has learned to explain noise in the training set at the expense of its ability to generalize to new data.\n",
    "\n",
    "In that one-sentence description, we invoked the concepts of _training set_ and _generalization_. These are absolutely key to any modeling effort, including decoding.\n",
    "\n",
    "##### Training sets vs. testing sets\n",
    "You need to train your decoder, obviously, and for that you'll need training data. No one cares how well your decoder works on your training data, though. What we care about is its _performance on data not used for training_.  That is, we are interested in how well your decoder **generalizes** to new data. The only way to rigorously know how well your decoder generalizes is to test it on data not used for training. "
   ]
  },
  {
   "cell_type": "code",
   "execution_count": 62,
   "metadata": {
    "colab": {
     "base_uri": "https://localhost:8080/",
     "height": 34
    },
    "colab_type": "code",
    "id": "u1EhoS2kgsZT",
    "outputId": "2b9cc4fa-06ba-489d-8b1a-8f78e04da00a"
   },
   "outputs": [
    {
     "name": "stdout",
     "output_type": "stream",
     "text": [
      "0.4580906012315027\n",
      "0.6185361114439478\n",
      "0.4563282411806775\n",
      "0.45632846613094824\n",
      "-0.0594075002909753\n"
     ]
    }
   ],
   "source": [
    "## Fit a decoder using all your data\n",
    "#Set what part of data should be part of the training/testing/validation sets\n",
    "#I made the ranges smaller for this example so that the hyperparameter optimization runs faster\n",
    "training_range=[0.6, 0.7] \n",
    "testing_range=[0.7, 0.8]\n",
    "valid_range=[0.8,0.9]\n",
    "\n",
    "\n",
    "num_examples=neural_data.shape[0]\n",
    "\n",
    "#Note that each range has a buffer of\"bins_before\" bins at the beginning, and \"bins_after\" bins at the end\n",
    "#This makes it so that the different sets don't include overlapping neural data\n",
    "training_set=np.arange(np.int(np.round(training_range[0]*num_examples)))\n",
    "testing_set=np.arange(np.int(np.round(testing_range[0]*num_examples)))\n",
    "valid_set=np.arange(np.int(np.round(valid_range[0]*num_examples)))\n",
    "\n",
    "#Get training data\n",
    "X_train=neural_data[training_set,:]\n",
    "y_train=vels[training_set]\n",
    "\n",
    "#Get testing data\n",
    "X_test=neural_data[testing_set,:]\n",
    "y_test=vels[testing_set]\n",
    "\n",
    "#Get validation data\n",
    "X_valid=neural_data[valid_set,:]\n",
    "y_valid=vels[valid_set]\n",
    "# We'll predict each decision using all neurons's activity throughout the trials\n",
    "#X = np.reshape(neural_recordings, (n_trials,-1))\n",
    "\n",
    "# Naive regression\n",
    "naive_model = linear_model.LinearRegression()\n",
    "naive_model.fit(X_train, y_train)\n",
    "print('Naive model')\n",
    "print('V',naive_model.score(X_valid, y_valid))\n",
    "print('T',naive_model.score(X_test, y_test))\n",
    "\n",
    "# Cross-validation Ridge\n",
    "bay_ridge_model = linear_model.BayesianRidge(n_iter=500)\n",
    "bay_ridge_model.fit(X_train, y_train)\n",
    "print(bay_ridge_model.score(X_valid, y_valid))\n",
    "\n",
    "# Bayesian ridge\n",
    "cv_ridge_model = linear_model.RidgeCV(alphas=np.logspace(-5,3,1), cv=10)\n",
    "cv_ridge_model.fit(X_train, y_train)\n",
    "print(cv_ridge_model.score(X_valid, y_valid))\n",
    "\n",
    "# Cross-validation lasso\n",
    "lasso_model = linear_model.LassoLarsCV(cv=10)\n",
    "lasso_model.fit(X_train, y_train)\n",
    "print(lasso_model.score(X_valid, y_valid))"
   ]
  },
  {
   "cell_type": "code",
   "execution_count": 56,
   "metadata": {},
   "outputs": [
    {
     "data": {
      "image/png": "[encoded data removed]",
      "text/plain": [
       "<Figure size 720x360 with 2 Axes>"
      ]
     },
     "metadata": {
      "needs_background": "light"
     },
     "output_type": "display_data"
    }
   ],
   "source": [
    "def plot_coefs(fit_model):\n",
    "  \"\"\"Makes a nice plot of the coefficients. fit_model is the model instance after fitting.\"\"\"\n",
    "  # get the coefficients of your fit\n",
    "  coefficients = fit_model.coef_.reshape(n_neurons, n_bins_per_trial)\n",
    "  \n",
    "\n",
    "  # show them\n",
    "  plt.figure(figsize = (10,5))\n",
    "  plt.imshow(coefficients, cmap = 'coolwarm', vmin = -np.max(coefficients), \n",
    "                                              vmax = np.max(coefficients))\n",
    "\n",
    "  #make it pretty\n",
    "  plt.ylabel(\"Neuron #\", fontsize = 14)\n",
    "  plt.xlabel(\"Time (ms)\", fontsize = 14)\n",
    "  plt.colorbar(orientation = 'horizontal', shrink = .6, \n",
    "               label=\"Contribution of bin to decision; its 'Vote' towards a positive decision.\")\n",
    "  plt.tight_layout()\n",
    "  plt.show()\n",
    "  \n",
    "plot_coefs(naive_model)"
   ]
  },
  {
   "cell_type": "code",
   "execution_count": null,
   "metadata": {},
   "outputs": [],
   "source": []
  },
  {
   "cell_type": "markdown",
   "metadata": {
    "colab_type": "text",
    "id": "aATf_EwnnQyC"
   },
   "source": [
    "**Looks great!** \n",
    "\n",
    "#### Exercise 1.1: \n",
    "Now, suppose you release your decoder in the world. Will it work? Can't be better than perfect, right?\n",
    "\n",
    "Create some new data and use the `score` function to see the $R^2$ of your model on new data."
   ]
  },
  {
   "cell_type": "code",
   "execution_count": 9,
   "metadata": {
    "colab": {},
    "colab_type": "code",
    "id": "3OmY3-jDnWjR"
   },
   "outputs": [
    {
     "name": "stdout",
     "output_type": "stream",
     "text": [
      "R2 test was -1.5056591955053427\n"
     ]
    }
   ],
   "source": [
    "\n",
    "new_neural_recordings, new_decisions = generate_neural_data(n_trials, \n",
    "                                             n_neurons, n_bins_per_trial)\n",
    "new_X = np.reshape(new_neural_recordings, (n_trials,-1))\n",
    "\n",
    "\n",
    "# Now you: score the model on this new data\n",
    "print(\"R2 test was\",my_naive_model.score(new_X,decisions))"
   ]
  },
  {
   "cell_type": "markdown",
   "metadata": {
    "colab_type": "text",
    "id": "iBrTBP3oZ16v"
   },
   "source": [
    "#### Exercise 1.2: \n",
    "You may have noticed that we're using linear *regression*, even though we have a classification problem.\n",
    "It'd be better to use logistic regression. \n",
    "\n",
    "Fit and score this logistic regression method using your original data.\n",
    "\n",
    "Then, also score this method with the new data you just obtained with your R01 funds. (That is, print both the test and train accuracy.)"
   ]
  },
  {
   "cell_type": "code",
   "execution_count": 10,
   "metadata": {
    "colab": {},
    "colab_type": "code",
    "id": "C13c7lGIYZZa"
   },
   "outputs": [
    {
     "name": "stdout",
     "output_type": "stream",
     "text": [
      "R2 train was 1.0\n",
      "R2 test was 0.452\n"
     ]
    }
   ],
   "source": [
    "log_reg = linear_model.LogisticRegression(penalty='none', solver = 'lbfgs',\n",
    "                                          max_iter = 1000)\n",
    "\n",
    "# fit\n",
    "log_reg.fit(X, decisions)\n",
    "# now score on both test and train\n",
    "print(\"R2 train was\",log_reg.score(X,decisions))\n",
    "print(\"R2 test was\",log_reg.score(new_X,decisions))"
   ]
  },
  {
   "cell_type": "markdown",
   "metadata": {
    "colab_type": "text",
    "id": "aYdsXI596Gck"
   },
   "source": [
    "Once you've completed that, just run this next cell. \n",
    "\n",
    "It shows the coefficients of the fit you just made. Does it match your intuitions? "
   ]
  },
  {
   "cell_type": "code",
   "execution_count": 11,
   "metadata": {
    "colab": {},
    "colab_type": "code",
    "id": "dMYFYr5VzPXy"
   },
   "outputs": [
    {
     "data": {
      "image/png": "[encoded data removed]",
      "text/plain": [
       "<Figure size 720x360 with 2 Axes>"
      ]
     },
     "metadata": {
      "needs_background": "light"
     },
     "output_type": "display_data"
    }
   ],
   "source": [
    "\n",
    "def plot_coefs(fit_model):\n",
    "  \"\"\"Makes a nice plot of the coefficients. fit_model is the model instance after fitting.\"\"\"\n",
    "  # get the coefficients of your fit\n",
    "  coefficients = fit_model.coef_.reshape(n_neurons, n_bins_per_trial)\n",
    "  \n",
    "\n",
    "  # show them\n",
    "  plt.figure(figsize = (10,5))\n",
    "  plt.imshow(coefficients, cmap = 'coolwarm', vmin = -np.max(coefficients), \n",
    "                                              vmax = np.max(coefficients))\n",
    "\n",
    "  #make it pretty\n",
    "  plt.ylabel(\"Neuron #\", fontsize = 14)\n",
    "  plt.xlabel(\"Time (ms)\", fontsize = 14)\n",
    "  plt.colorbar(orientation = 'horizontal', shrink = .6, \n",
    "               label=\"Contribution of bin to decision; its 'Vote' towards a positive decision.\")\n",
    "  plt.tight_layout()\n",
    "  plt.show()\n",
    "  \n",
    "plot_coefs(log_reg)"
   ]
  },
  {
   "cell_type": "markdown",
   "metadata": {
    "colab_type": "text",
    "id": "ED41_d9dniIE"
   },
   "source": [
    "## 2. Crossvalidation\n",
    "\n",
    "We saw in the last section that if we used all of our training data to fit a method, we have no idea how our method will work \n",
    "on new data. This a problem for any engineering purpose.\n",
    "\n",
    "We also have no idea if our coefficients are meaningful or reflect random noise in the data. This is a problem for the science.\n",
    "\n",
    "The way to address this problem is to **split your data into a training segment and a validation segment**. We'll try an 80%/20% split."
   ]
  },
  {
   "cell_type": "code",
   "execution_count": 15,
   "metadata": {
    "colab": {},
    "colab_type": "code",
    "id": "ZwRNhIco_nrS"
   },
   "outputs": [],
   "source": [
    "split = int(n_trials*4/5)\n",
    "\n",
    "training_data = X[:split,:]\n",
    "validation_data = X[split:,:]\n",
    "\n",
    "training_decisions = decisions[:split]\n",
    "validation_decisions = decisions[split:]"
   ]
  },
  {
   "cell_type": "code",
   "execution_count": 17,
   "metadata": {
    "colab": {},
    "colab_type": "code",
    "id": "Xii4Ow-nAQVV"
   },
   "outputs": [
    {
     "name": "stdout",
     "output_type": "stream",
     "text": [
      "R2 train was 1.0\n"
     ]
    }
   ],
   "source": [
    "# fit on the training data. (Don't forget to reinitialize your decoder first.)\n",
    "log_reg = linear_model.LogisticRegression(penalty='none', solver = 'lbfgs', max_iter = 1000)\n",
    "\n",
    "# fit and score on training\n",
    "log_reg.fit(training_data, training_decisions)\n",
    "print(\"R2 train was\", log_reg.score(training_data,training_decisions))"
   ]
  },
  {
   "cell_type": "code",
   "execution_count": 18,
   "metadata": {
    "colab": {},
    "colab_type": "code",
    "id": "SeUInXtmAQYQ"
   },
   "outputs": [
    {
     "name": "stdout",
     "output_type": "stream",
     "text": [
      "R2 validation was 0.88\n"
     ]
    }
   ],
   "source": [
    "# score on the validation data\n",
    "print(\"R2 validation was\", log_reg.score(validation_data, validation_decisions))"
   ]
  },
  {
   "cell_type": "markdown",
   "metadata": {
    "colab_type": "text",
    "id": "Bo94tWYoAQbF"
   },
   "source": [
    "But right now we're only testing on 20% of the data! Small data means high variance, so maybe we can't trust these scores much.\n",
    "\n",
    "A common practice is therefore to perform __k-fold crossvalidation__. This just means we rotate which segment of the original data is the validation set. We can then average the scores."
   ]
  },
  {
   "cell_type": "code",
   "execution_count": 19,
   "metadata": {
    "colab": {},
    "colab_type": "code",
    "id": "CK6-aoITAQel"
   },
   "outputs": [],
   "source": [
    "# Just run this.\n",
    "def get_test_train_splits(data, decisions, n_folds=5):\n",
    "  \"\"\"\n",
    "  Returns a tuple of matched train sets and validation sets, rotating through the data.\n",
    "  \n",
    "  Note that there are scikit-learn functions that do this, too.\"\"\"\n",
    "  \n",
    "  fold_size = len(data)//n_folds\n",
    "  \n",
    "  training_sets = [np.roll(data,fold_size*i, axis=0)[fold_size:] for i in range(n_folds)]\n",
    "  val_sets = [np.roll(data,fold_size*i, axis=0)[:fold_size] for i in range(n_folds)]\n",
    "  \n",
    "  training_Y = [np.roll(decisions,fold_size*i, axis=0)[fold_size:] for i in range(n_folds)]\n",
    "  val_Y = [np.roll(decisions,fold_size*i, axis=0)[:fold_size] for i in range(n_folds)]\n",
    "  \n",
    "\n",
    "  return (training_sets, training_Y), (val_sets, val_Y)"
   ]
  },
  {
   "cell_type": "markdown",
   "metadata": {
    "colab_type": "text",
    "id": "0EVx8pdAI7aB"
   },
   "source": [
    "#### Excercise 2\n",
    "\n",
    "Fill out the missing gaps in the script below. \n"
   ]
  },
  {
   "cell_type": "code",
   "execution_count": 20,
   "metadata": {
    "colab": {},
    "colab_type": "code",
    "id": "j3KLNF9vGDnb"
   },
   "outputs": [
    {
     "name": "stdout",
     "output_type": "stream",
     "text": [
      "Fold 0 of 5\n",
      "   Validation accuracy of 0.88\n",
      "   True test set accuracy of 0.9\n"
     ]
    },
    {
     "data": {
      "image/png": "[encoded data removed]",
      "text/plain": [
       "<Figure size 720x360 with 2 Axes>"
      ]
     },
     "metadata": {
      "needs_background": "light"
     },
     "output_type": "display_data"
    },
    {
     "name": "stdout",
     "output_type": "stream",
     "text": [
      "Fold 1 of 5\n",
      "   Validation accuracy of 0.88\n",
      "   True test set accuracy of 0.9\n"
     ]
    },
    {
     "data": {
      "image/png": "[encoded data removed]",
      "text/plain": [
       "<Figure size 720x360 with 2 Axes>"
      ]
     },
     "metadata": {
      "needs_background": "light"
     },
     "output_type": "display_data"
    },
    {
     "name": "stdout",
     "output_type": "stream",
     "text": [
      "Fold 2 of 5\n",
      "   Validation accuracy of 0.96\n",
      "   True test set accuracy of 0.896\n"
     ]
    },
    {
     "data": {
      "image/png": "[encoded data removed]",
      "text/plain": [
       "<Figure size 720x360 with 2 Axes>"
      ]
     },
     "metadata": {
      "needs_background": "light"
     },
     "output_type": "display_data"
    },
    {
     "name": "stdout",
     "output_type": "stream",
     "text": [
      "Fold 3 of 5\n",
      "   Validation accuracy of 0.8\n",
      "   True test set accuracy of 0.884\n"
     ]
    },
    {
     "data": {
      "image/png": "[encoded data removed]",
      "text/plain": [
       "<Figure size 720x360 with 2 Axes>"
      ]
     },
     "metadata": {
      "needs_background": "light"
     },
     "output_type": "display_data"
    },
    {
     "name": "stdout",
     "output_type": "stream",
     "text": [
      "Fold 4 of 5\n",
      "   Validation accuracy of 0.8\n",
      "   True test set accuracy of 0.884\n"
     ]
    },
    {
     "data": {
      "image/png": "[encoded data removed]",
      "text/plain": [
       "<Figure size 720x360 with 2 Axes>"
      ]
     },
     "metadata": {
      "needs_background": "light"
     },
     "output_type": "display_data"
    },
    {
     "name": "stdout",
     "output_type": "stream",
     "text": [
      "Mean validation accuracy: 0.8639999999999999\n"
     ]
    }
   ],
   "source": [
    "(training_sets, training_Ys), (val_sets, val_Ys) = get_test_train_splits(X, decisions)\n",
    "\n",
    "scores = []\n",
    "\n",
    "# Iterate through the k=5 folds\n",
    "for fold in range(5):\n",
    "  print(\"Fold {} of 5\".format(fold))\n",
    "  \n",
    "  training_X = training_sets[fold]\n",
    "  training_Y = training_Ys[fold]\n",
    "  \n",
    "  validation_X = val_sets[fold]\n",
    "  validation_Y = val_Ys[fold]\n",
    "  \n",
    "  # Redefine the logistic regression model. (important to do this inside the loop)\n",
    "  this_model = linear_model.LogisticRegression(penalty='none', solver = 'lbfgs', max_iter = 1000)\n",
    "  \n",
    "  # Now fit on the training data\n",
    "  this_model.fit(training_X, training_Y)\n",
    "  \n",
    "  # score on the validation data\n",
    "  this_accuracy = this_model.score(validation_X, validation_Y)\n",
    "  \n",
    "  scores.append(this_accuracy)\n",
    "  \n",
    "  # score on the new dataset (new_X, new_decisions from above)\n",
    "  accuracy_on_test_data = this_model.score(new_X, new_decisions)\n",
    "  \n",
    "  print(\"   Validation accuracy of {}\".format( this_accuracy ))\n",
    "  print(\"   True test set accuracy of {}\".format( accuracy_on_test_data ))\n",
    "  plot_coefs(this_model)\n",
    "  \n",
    "print(\"Mean validation accuracy: {}\".format(np.mean(scores)))"
   ]
  },
  {
   "cell_type": "markdown",
   "metadata": {
    "colab_type": "text",
    "id": "ItAke3ZhGDpt"
   },
   "source": [
    "How close is the validation accuracy to the test set accuracy? \n",
    "\n",
    "How much did using 80% of the data affect the test set accuracy?\n",
    "\n",
    "## 3. Regularization\n",
    "\n",
    "Here we'll apply regularization, as talked about in the lecture.\n",
    "\n",
    "\n",
    "#### Exercise 3.1\n",
    "\n",
    "Go to the [scikit-learn docs](https://scikit-learn.org/stable/modules/linear_model.html#logistic-regression) and decide which form of regularization you would like to use with logistic regression.\n",
    "\n",
    "#### Exercise 3.2\n",
    "\n",
    "Copy and paste the cell from _Excercise 2_, but this time change the `penalty` flag in the `LogisticRegression` call to the form of regularization you chose. \n",
    "\n",
    "\n",
    "First all other default parameters. Then set `C=1e-6` and see what happens.\n"
   ]
  },
  {
   "cell_type": "code",
   "execution_count": 34,
   "metadata": {
    "colab": {},
    "colab_type": "code",
    "id": "rkVb9JB3GDrq"
   },
   "outputs": [
    {
     "name": "stdout",
     "output_type": "stream",
     "text": [
      "Fold 0 of 5\n",
      "   Validation accuracy of 0.9\n",
      "   True test set accuracy of 0.828\n"
     ]
    },
    {
     "data": {
      "image/png": "[encoded data removed]",
      "text/plain": [
       "<Figure size 720x360 with 2 Axes>"
      ]
     },
     "metadata": {
      "needs_background": "light"
     },
     "output_type": "display_data"
    },
    {
     "name": "stdout",
     "output_type": "stream",
     "text": [
      "Fold 1 of 5\n",
      "   Validation accuracy of 0.82\n",
      "   True test set accuracy of 0.836\n"
     ]
    },
    {
     "data": {
      "image/png": "[encoded data removed]",
      "text/plain": [
       "<Figure size 720x360 with 2 Axes>"
      ]
     },
     "metadata": {
      "needs_background": "light"
     },
     "output_type": "display_data"
    },
    {
     "name": "stdout",
     "output_type": "stream",
     "text": [
      "Fold 2 of 5\n",
      "   Validation accuracy of 0.74\n",
      "   True test set accuracy of 0.792\n"
     ]
    },
    {
     "data": {
      "image/png": "[encoded data removed]",
      "text/plain": [
       "<Figure size 720x360 with 2 Axes>"
      ]
     },
     "metadata": {
      "needs_background": "light"
     },
     "output_type": "display_data"
    },
    {
     "name": "stdout",
     "output_type": "stream",
     "text": [
      "Fold 3 of 5\n",
      "   Validation accuracy of 0.7\n",
      "   True test set accuracy of 0.708\n"
     ]
    },
    {
     "data": {
      "image/png": "[encoded data removed]",
      "text/plain": [
       "<Figure size 720x360 with 2 Axes>"
      ]
     },
     "metadata": {
      "needs_background": "light"
     },
     "output_type": "display_data"
    },
    {
     "name": "stdout",
     "output_type": "stream",
     "text": [
      "Fold 4 of 5\n",
      "   Validation accuracy of 0.56\n",
      "   True test set accuracy of 0.62\n"
     ]
    },
    {
     "data": {
      "image/png": "[encoded data removed]",
      "text/plain": [
       "<Figure size 720x360 with 2 Axes>"
      ]
     },
     "metadata": {
      "needs_background": "light"
     },
     "output_type": "display_data"
    },
    {
     "name": "stdout",
     "output_type": "stream",
     "text": [
      "Mean validation accuracy: 0.744\n"
     ]
    }
   ],
   "source": [
    "# copy, paste, and regularize Exercise 2\n",
    "(training_sets, training_Ys), (val_sets, val_Ys) = get_test_train_splits(X, decisions)\n",
    "\n",
    "scores = []\n",
    "\n",
    "# Iterate through the k=5 folds\n",
    "for fold in range(5):\n",
    "  print(\"Fold {} of 5\".format(fold))\n",
    "  \n",
    "  training_X = training_sets[fold]\n",
    "  training_Y = training_Ys[fold]\n",
    "  \n",
    "  validation_X = val_sets[fold]\n",
    "  validation_Y = val_Ys[fold]\n",
    "  \n",
    "  # Redefine the logistic regression model. (important to do this inside the loop)\n",
    "  this_model = linear_model.LogisticRegression(penalty='l2', C=1e-6, max_iter = 1000)\n",
    "  \n",
    "  # Now fit on the training data\n",
    "  this_model.fit(training_X, training_Y)\n",
    "  \n",
    "  # score on the validation data\n",
    "  this_accuracy = this_model.score(validation_X, validation_Y)\n",
    "  \n",
    "  scores.append(this_accuracy)\n",
    "  \n",
    "  # score on the new dataset (new_X, new_decisions from above)\n",
    "  accuracy_on_test_data = this_model.score(new_X, new_decisions)\n",
    "  \n",
    "  print(\"   Validation accuracy of {}\".format( this_accuracy ))\n",
    "  print(\"   True test set accuracy of {}\".format( accuracy_on_test_data ))\n",
    "  plot_coefs(this_model)\n",
    "  \n",
    "print(\"Mean validation accuracy: {}\".format(np.mean(scores)))"
   ]
  },
  {
   "cell_type": "markdown",
   "metadata": {
    "colab_type": "text",
    "id": "fBksWszaLgi5"
   },
   "source": [
    "#### Exercise 3.3: Choose the best regularization penalty\n",
    "\n",
    "Let's automate the above process so that we can choose the best performing value of `C`.\n",
    "\n",
    "First, write a function (largely copy and paste from the last exercise) that returns the mean validation accuracy for\n",
    "an arbitrary value of `C`."
   ]
  },
  {
   "cell_type": "code",
   "execution_count": 46,
   "metadata": {
    "colab": {},
    "colab_type": "code",
    "id": "UXsa18cbqt67"
   },
   "outputs": [],
   "source": [
    "# First complete this function that takes data (e.g. X) \n",
    "# and a model, and returns the average validation accuracy from 5-fold CV\n",
    "# (Largely copy and paste from above, but deleting print statements)\n",
    "def get_kfold_validation_score(data, decisions, C):\n",
    "    (training_sets, training_Ys), (val_sets, val_Ys) = get_test_train_splits(X, decisions)\n",
    "    scores = []\n",
    "    # Iterate through the k=5 folds\n",
    "    for fold in range(5):\n",
    "        training_X = training_sets[fold]\n",
    "        training_Y = training_Ys[fold]\n",
    "        validation_X = val_sets[fold]\n",
    "        validation_Y = val_Ys[fold]\n",
    "        # Redefine the logistic regression model. (important to do this inside the loop)\n",
    "        this_model = linear_model.LogisticRegression(penalty='l2', C=C, max_iter = 1000)\n",
    "        # Now fit on the training data\n",
    "        this_model.fit(training_X, training_Y)\n",
    "        # score on the validation data\n",
    "        this_accuracy = this_model.score(validation_X, validation_Y)\n",
    "        scores.append(this_accuracy)\n",
    "        # score on the new dataset (new_X, new_decisions from above)\n",
    "        accuracy_on_test_data = this_model.score(new_X, new_decisions)\n",
    "        mean_validation_accuracy = np.array(scores).mean()\n",
    "    return mean_validation_accuracy"
   ]
  },
  {
   "cell_type": "markdown",
   "metadata": {
    "colab_type": "text",
    "id": "7QFQQAj-rFIF"
   },
   "source": [
    "Now let's create a loop for various values of `C` and see what's the best.\n"
   ]
  },
  {
   "cell_type": "code",
   "execution_count": 47,
   "metadata": {
    "colab": {},
    "colab_type": "code",
    "id": "4cobrMeXLgoZ"
   },
   "outputs": [
    {
     "name": "stderr",
     "output_type": "stream",
     "text": [
      "C:\\Users\\neuro\\anaconda3\\envs\\ndecod\\lib\\site-packages\\sklearn\\linear_model\\_logistic.py:444: ConvergenceWarning: lbfgs failed to converge (status=1):\n",
      "STOP: TOTAL NO. of ITERATIONS REACHED LIMIT.\n",
      "\n",
      "Increase the number of iterations (max_iter) or scale the data as shown in:\n",
      "    https://scikit-learn.org/stable/modules/preprocessing.html\n",
      "Please also refer to the documentation for alternative solver options:\n",
      "    https://scikit-learn.org/stable/modules/linear_model.html#logistic-regression\n",
      "  n_iter_i = _check_optimize_result(\n",
      "C:\\Users\\neuro\\anaconda3\\envs\\ndecod\\lib\\site-packages\\sklearn\\linear_model\\_logistic.py:444: ConvergenceWarning: lbfgs failed to converge (status=1):\n",
      "STOP: TOTAL NO. of ITERATIONS REACHED LIMIT.\n",
      "\n",
      "Increase the number of iterations (max_iter) or scale the data as shown in:\n",
      "    https://scikit-learn.org/stable/modules/preprocessing.html\n",
      "Please also refer to the documentation for alternative solver options:\n",
      "    https://scikit-learn.org/stable/modules/linear_model.html#logistic-regression\n",
      "  n_iter_i = _check_optimize_result(\n",
      "C:\\Users\\neuro\\anaconda3\\envs\\ndecod\\lib\\site-packages\\sklearn\\linear_model\\_logistic.py:444: ConvergenceWarning: lbfgs failed to converge (status=1):\n",
      "STOP: TOTAL NO. of ITERATIONS REACHED LIMIT.\n",
      "\n",
      "Increase the number of iterations (max_iter) or scale the data as shown in:\n",
      "    https://scikit-learn.org/stable/modules/preprocessing.html\n",
      "Please also refer to the documentation for alternative solver options:\n",
      "    https://scikit-learn.org/stable/modules/linear_model.html#logistic-regression\n",
      "  n_iter_i = _check_optimize_result(\n",
      "C:\\Users\\neuro\\anaconda3\\envs\\ndecod\\lib\\site-packages\\sklearn\\linear_model\\_logistic.py:444: ConvergenceWarning: lbfgs failed to converge (status=1):\n",
      "STOP: TOTAL NO. of ITERATIONS REACHED LIMIT.\n",
      "\n",
      "Increase the number of iterations (max_iter) or scale the data as shown in:\n",
      "    https://scikit-learn.org/stable/modules/preprocessing.html\n",
      "Please also refer to the documentation for alternative solver options:\n",
      "    https://scikit-learn.org/stable/modules/linear_model.html#logistic-regression\n",
      "  n_iter_i = _check_optimize_result(\n",
      "C:\\Users\\neuro\\anaconda3\\envs\\ndecod\\lib\\site-packages\\sklearn\\linear_model\\_logistic.py:444: ConvergenceWarning: lbfgs failed to converge (status=1):\n",
      "STOP: TOTAL NO. of ITERATIONS REACHED LIMIT.\n",
      "\n",
      "Increase the number of iterations (max_iter) or scale the data as shown in:\n",
      "    https://scikit-learn.org/stable/modules/preprocessing.html\n",
      "Please also refer to the documentation for alternative solver options:\n",
      "    https://scikit-learn.org/stable/modules/linear_model.html#logistic-regression\n",
      "  n_iter_i = _check_optimize_result(\n",
      "C:\\Users\\neuro\\anaconda3\\envs\\ndecod\\lib\\site-packages\\sklearn\\linear_model\\_logistic.py:444: ConvergenceWarning: lbfgs failed to converge (status=1):\n",
      "STOP: TOTAL NO. of ITERATIONS REACHED LIMIT.\n",
      "\n",
      "Increase the number of iterations (max_iter) or scale the data as shown in:\n",
      "    https://scikit-learn.org/stable/modules/preprocessing.html\n",
      "Please also refer to the documentation for alternative solver options:\n",
      "    https://scikit-learn.org/stable/modules/linear_model.html#logistic-regression\n",
      "  n_iter_i = _check_optimize_result(\n",
      "C:\\Users\\neuro\\anaconda3\\envs\\ndecod\\lib\\site-packages\\sklearn\\linear_model\\_logistic.py:444: ConvergenceWarning: lbfgs failed to converge (status=1):\n",
      "STOP: TOTAL NO. of ITERATIONS REACHED LIMIT.\n",
      "\n",
      "Increase the number of iterations (max_iter) or scale the data as shown in:\n",
      "    https://scikit-learn.org/stable/modules/preprocessing.html\n",
      "Please also refer to the documentation for alternative solver options:\n",
      "    https://scikit-learn.org/stable/modules/linear_model.html#logistic-regression\n",
      "  n_iter_i = _check_optimize_result(\n"
     ]
    }
   ],
   "source": [
    "# decide on a logarithmic schedule of Cs. \n",
    "Cs_to_test = np.logspace(-6, 3, 30)\n",
    "\n",
    "validation_accuracy_vs_C = []\n",
    "for C in Cs_to_test:\n",
    "  \n",
    "    # get the mean score on k-fold cross-validation using your function above\n",
    "    mean_validation_accuracy = get_kfold_validation_score(X, decisions, C)\n",
    "    \n",
    "    validation_accuracy_vs_C.append(mean_validation_accuracy)\n",
    "  \n",
    "  "
   ]
  },
  {
   "cell_type": "code",
   "execution_count": 48,
   "metadata": {
    "colab": {},
    "colab_type": "code",
    "id": "30dujMtRNSFP"
   },
   "outputs": [
    {
     "data": {
      "text/plain": [
       "(0.8, 1.0)"
      ]
     },
     "execution_count": 48,
     "metadata": {},
     "output_type": "execute_result"
    },
    {
     "data": {
      "image/png": "[encoded data removed]",
      "text/plain": [
       "<Figure size 432x288 with 1 Axes>"
      ]
     },
     "metadata": {
      "needs_background": "light"
     },
     "output_type": "display_data"
    }
   ],
   "source": [
    "# Now plot the lists you just made. (Just run this.)\n",
    "plt.semilogx(Cs_to_test, validation_accuracy_vs_C,\"o-\")\n",
    "plt.xlabel(\"C\",fontsize=16)\n",
    "plt.ylabel(\"validation acc.\",fontsize=16)\n",
    "plt.ylim([.8,1])"
   ]
  },
  {
   "cell_type": "code",
   "execution_count": 52,
   "metadata": {
    "colab": {},
    "colab_type": "code",
    "id": "KiuHUp2QSqvy"
   },
   "outputs": [
    {
     "name": "stdout",
     "output_type": "stream",
     "text": [
      "R2 train: 0.915\n",
      "R2 validation: 0.9\n",
      "R2 test: 0.928\n"
     ]
    }
   ],
   "source": [
    "Cmax_sub = np.array(validation_accuracy_vs_C).argmax()\n",
    "optimal_C = Cs_to_test[Cmax_sub]\n",
    "log_reg = linear_model.LogisticRegression(penalty='l2', C=optimal_C, max_iter=5000)\n",
    "log_reg.fit(training_data, training_decisions)\n",
    "\n",
    "print(\"R2 train:\", log_reg.score(training_data, training_decisions))\n",
    "print(\"R2 validation:\", log_reg.score(validation_data, validation_decisions))\n",
    "print(\"R2 test:\", log_reg.score(new_X, new_decisions))"
   ]
  },
  {
   "cell_type": "markdown",
   "metadata": {
    "colab_type": "text",
    "id": "zaPCPWdJSqSf"
   },
   "source": [
    "## 4. Applying recurrent neural networks\n",
    "\n",
    "This section is going to be a bit of an introduction to our [python package for neural decoding](https://github.com/KordingLab/Neural_Decoding).\n",
    "\n",
    "First let's install the package. This will also install all the dependencies we need."
   ]
  },
  {
   "cell_type": "code",
   "execution_count": 53,
   "metadata": {
    "colab": {},
    "colab_type": "code",
    "id": "nIwIoxB3SqSg"
   },
   "outputs": [
    {
     "name": "stdout",
     "output_type": "stream",
     "text": [
      "Requirement already satisfied: Neural-Decoding in c:\\users\\neuro\\anaconda3\\envs\\ndecod\\lib\\site-packages\\neural_decoding-0.1.2.dev0-py3.10.egg (0.1.2.dev0)\n",
      "Collecting Neural-Decoding\n",
      "  Using cached Neural_Decoding-0.1.5-py3-none-any.whl (18 kB)\n",
      "Requirement already satisfied: numpy>=1.16.3 in c:\\users\\neuro\\anaconda3\\envs\\ndecod\\lib\\site-packages\\numpy-1.23.2-py3.10-win-amd64.egg (from Neural-Decoding) (1.23.2)\n",
      "Installing collected packages: Neural-Decoding\n",
      "  Attempting uninstall: Neural-Decoding\n",
      "    Found existing installation: Neural-Decoding 0.1.2.dev0\n",
      "    Uninstalling Neural-Decoding-0.1.2.dev0:\n",
      "      Successfully uninstalled Neural-Decoding-0.1.2.dev0\n",
      "Successfully installed Neural-Decoding-0.1.5\n"
     ]
    }
   ],
   "source": [
    "!pip install Neural-Decoding --upgrade"
   ]
  },
  {
   "cell_type": "code",
   "execution_count": 57,
   "metadata": {
    "colab": {},
    "colab_type": "code",
    "id": "n7R8Wu-iSqSk"
   },
   "outputs": [],
   "source": [
    "from Neural_Decoding import decoders\n",
    "\n",
    "import warnings\n",
    "warnings.filterwarnings('ignore')"
   ]
  },
  {
   "cell_type": "markdown",
   "metadata": {
    "colab_type": "text",
    "id": "mNRHoZ8kSqSm"
   },
   "source": [
    "Let's take a look at the documentation of the decoder we'll use."
   ]
  },
  {
   "cell_type": "code",
   "execution_count": 58,
   "metadata": {
    "colab": {},
    "colab_type": "code",
    "id": "PfPChxogSqSo"
   },
   "outputs": [],
   "source": [
    "# Run me\n",
    "?decoders.SimpleRNNClassification"
   ]
  },
  {
   "cell_type": "code",
   "execution_count": 59,
   "metadata": {
    "colab": {},
    "colab_type": "code",
    "id": "CWLHbPsR_-rb"
   },
   "outputs": [],
   "source": [
    "?decoders.SimpleRNNClassification.fit"
   ]
  },
  {
   "cell_type": "markdown",
   "metadata": {
    "colab_type": "text",
    "id": "sLQd5QKsaKdz"
   },
   "source": [
    "You'll notice that the shape of the training inputs is now **3-dimensional**. This is because we can now explitly model the effect of time! Hooray! \n",
    "\n",
    "Recall that recurrent neural networks contain a \"hidden state\". The way this decoder works is that it reads all the neural activities in at the first time bin (out of `n_time_bins`) and then updates its hidden state accordingly. The value of this hidden state informs how the hidden state will evolve over time in each trial. After the hidden state updates `n_time_bin` times, it outputs its prediction for the animal's choice.\n",
    "\n",
    "\n",
    "Lets apply this classifier to the data."
   ]
  },
  {
   "cell_type": "code",
   "execution_count": 0,
   "metadata": {
    "colab": {},
    "colab_type": "code",
    "id": "ZGDcn7g6AVeN"
   },
   "outputs": [],
   "source": [
    "# lets re-split our original 3-dimensional trials/neurons/time input data.\n",
    "split = int(n_trials*4/5)\n",
    "\n",
    "training_data = neural_recordings[:split]\n",
    "validation_data = neural_recordings[split:]\n",
    "\n",
    "training_decisions = decisions[:split]\n",
    "validation_decisions = decisions[split:]\n",
    "\n",
    "training_data = np.swapaxes(training_data, 1, 2)\n",
    "validation_data = np.swapaxes(validation_data, 1, 2)\n",
    "\n",
    "print(\"Training input data is of shape\", training_data.shape)\n",
    "print(\"Validation input data is of shape\", validation_data.shape)\n"
   ]
  },
  {
   "cell_type": "code",
   "execution_count": 0,
   "metadata": {
    "colab": {},
    "colab_type": "code",
    "id": "D5CLevam9m6N"
   },
   "outputs": [],
   "source": [
    "\n",
    "# first we instantiate the decoder\n",
    "my_RNN_classifier = decoders.SimpleRNNClassification(units = 50,\n",
    "                                                    dropout = 0,\n",
    "                                                    num_epochs =250,\n",
    "                                                    verbose = 1)"
   ]
  },
  {
   "cell_type": "code",
   "execution_count": 0,
   "metadata": {
    "colab": {},
    "colab_type": "code",
    "id": "g2V2ttwE-SG9"
   },
   "outputs": [],
   "source": [
    "# now we fit to our training data, like before\n",
    "my_RNN_classifier.fit(training_data, training_decisions)"
   ]
  },
  {
   "cell_type": "code",
   "execution_count": 0,
   "metadata": {
    "colab": {},
    "colab_type": "code",
    "id": "p7kc5I2xB5ya"
   },
   "outputs": [],
   "source": [
    "# predict on the validation data\n",
    "\n",
    "predictions = my_RNN_classifier.predict(validation_data)\n",
    "predictions"
   ]
  },
  {
   "cell_type": "markdown",
   "metadata": {
    "colab_type": "text",
    "id": "l9ihnQ0zHS6Z"
   },
   "source": [
    "##### Excercise 4.0\n",
    "\n",
    "Get the percentage of the predictions that were made correctly."
   ]
  },
  {
   "cell_type": "code",
   "execution_count": 0,
   "metadata": {
    "colab": {},
    "colab_type": "code",
    "id": "vZyVFSJDF6hD"
   },
   "outputs": [],
   "source": []
  },
  {
   "cell_type": "markdown",
   "metadata": {
    "colab_type": "text",
    "id": "MUU4_IKwGh4n"
   },
   "source": [
    "This is not as quite as good as logistic regression yet. There are a lot of parameters to choose for RNNs, and we haven't tried that yet.\n",
    "\n",
    "\n",
    "#### Looking inside the model\n",
    "\n",
    "Within the `my_RNN_classifier` object you just fit, there is an actual Keras model. We can look at it, change its parameters, and use Keras methods."
   ]
  },
  {
   "cell_type": "code",
   "execution_count": 0,
   "metadata": {
    "colab": {},
    "colab_type": "code",
    "id": "cEu_9fToHM_g"
   },
   "outputs": [],
   "source": [
    "# Put the cursor after model, and press tab to see the methods we can call\n",
    "my_RNN_classifier.model."
   ]
  },
  {
   "cell_type": "code",
   "execution_count": 0,
   "metadata": {
    "colab": {},
    "colab_type": "code",
    "id": "J9Z-T3diH9ze"
   },
   "outputs": [],
   "source": [
    "# for example, we can use Keras's in-built method for calculating accuracy\n",
    "from keras.utils import np_utils\n",
    "acc = my_RNN_classifier.model.test_on_batch(validation_data, \n",
    "                                      np_utils.to_categorical(validation_decisions))\n",
    "print(\"Accuracy is {} %\".format(100*acc[1]))"
   ]
  },
  {
   "cell_type": "markdown",
   "metadata": {
    "colab_type": "text",
    "id": "IPVi_UFOLOM6"
   },
   "source": [
    "#### Excercise 4.1: Tuning the RNN\n",
    "\n",
    "Train an RNN decoder again, but this time use 1000 hidden units instead of 50."
   ]
  },
  {
   "cell_type": "code",
   "execution_count": 0,
   "metadata": {
    "colab": {},
    "colab_type": "code",
    "id": "i3IIljjbLfRD"
   },
   "outputs": [],
   "source": []
  },
  {
   "cell_type": "markdown",
   "metadata": {
    "colab_type": "text",
    "id": "aQSc7xswSqTZ"
   },
   "source": [
    "## 5. Compare many methods on actual neural data\n",
    "\n",
    "### Preliminaries\n",
    "\n",
    "**STOP** Make sure you're running a **GPU runtime** for this section. (Runtime -> Change runtime type). Otherwise running the RNNs will take forever.\n",
    "\n",
    "First we need to download the data. I created a script to download and process the Steinmetz data into the format we need. Since the processing script takes about 15 minutes, we'll skip that step, and you can just download the processed data from my Google Drive.\n",
    "\n",
    "This dataset is specifically `Cori_2016-12-18`. If you're interested in loading a different session, I've copied my downloading and preprocessing script in the bottom of this notebook and you can run it right here."
   ]
  },
  {
   "cell_type": "code",
   "execution_count": 0,
   "metadata": {
    "colab": {},
    "colab_type": "code",
    "id": "u0Wt68jUSqTZ"
   },
   "outputs": [],
   "source": [
    "!pip install googledrivedownloader\n",
    "\n",
    "from google_drive_downloader import GoogleDriveDownloader as gdd\n",
    "\n",
    "gdd.download_file_from_google_drive(file_id='1W3TwEtC0Z6Qmbfuz8_AWRiQHfuDb9FIS',\n",
    "                                    dest_path='./Binned_data.zip',\n",
    "                                    unzip=True)\n"
   ]
  },
  {
   "cell_type": "code",
   "execution_count": 0,
   "metadata": {
    "colab": {},
    "colab_type": "code",
    "id": "sARtnvbYSqTe"
   },
   "outputs": [],
   "source": [
    "binned_spikes = np.load('binned_spikes.npy')\n",
    "choices = np.load('choices.npy')+1\n"
   ]
  },
  {
   "cell_type": "markdown",
   "metadata": {
    "colab_type": "text",
    "id": "6LQ2cxR-SqTi"
   },
   "source": [
    "### Predicting choices from neural population recordings\n",
    "\n",
    "We're going to try to predict the mouse's choices from the neuropixel recordings in the 1 second preceeding each choice. `binned_spikes.npy` is a numpy array containing the binned spike rates, and `choices.npy` contains the animal's choices. \n",
    "\n",
    "There are 228 trials, 1089 neurons, and 50 bins per trial (for a time of 20ms per bin).\n",
    "\n",
    "This is not a great situation for machine learning. As a rule of thumb, we would like more trials than datapoints per trial. (If doing this for realz, would suggest running PCA on this data and using the top components as inputs). But, it's what we got, so here goes!\n",
    "\n",
    "#### Exercise 5.0\n",
    "\n",
    "Print out the shape of `binned_spikes` and `choices`. Also print out the first 10 choices.\n",
    "\n"
   ]
  },
  {
   "cell_type": "code",
   "execution_count": 0,
   "metadata": {
    "colab": {},
    "colab_type": "code",
    "id": "korkcjUISqTi"
   },
   "outputs": [],
   "source": [
    "\n",
    "print(binned_spikes.shape, choices.shape)\n",
    "print(choices[:10])"
   ]
  },
  {
   "cell_type": "markdown",
   "metadata": {
    "colab_type": "text",
    "id": "LNDeXvE_cU94"
   },
   "source": [
    "You'll notice that `choices` takes values 0, 1, and 2. We're going to try to decode this."
   ]
  },
  {
   "cell_type": "markdown",
   "metadata": {
    "colab_type": "text",
    "id": "VqEcdu4tX6oF"
   },
   "source": [
    "#### Excercise 5.1\n",
    "\n",
    "Split this data into test and validation splits.\n",
    "\n",
    "(We'll skip the final testing phase in this exercise. In reality, make sure to do cross-validation and use both validation and testing data.)"
   ]
  },
  {
   "cell_type": "code",
   "execution_count": 0,
   "metadata": {
    "colab": {},
    "colab_type": "code",
    "id": "RuovaxSOX7Y8"
   },
   "outputs": [],
   "source": [
    "# make training and validation data\n",
    "# Use an 80/20 split.|\n",
    "split = \n",
    "\n",
    "training_spikes = \n",
    "validation_spikes = \n",
    "\n",
    "training_choices = \n",
    "validation_choices ="
   ]
  },
  {
   "cell_type": "markdown",
   "metadata": {
    "colab_type": "text",
    "id": "H1HVdWFEZrZl"
   },
   "source": [
    "##### A fitting demo.\n",
    "\n",
    "This is basically what we did above, but with actual data."
   ]
  },
  {
   "cell_type": "code",
   "execution_count": 0,
   "metadata": {
    "colab": {},
    "colab_type": "code",
    "id": "LPjqE8_OSqTs"
   },
   "outputs": [],
   "source": [
    "\n",
    "my_RNN_classifier = decoders.SimpleRNNClassification(units = 100,\n",
    "                                                    dropout = 0,\n",
    "                                                    num_epochs =10,\n",
    "                                                    verbose = 1)\n",
    "\n",
    "my_RNN_classifier.fit(training_spikes, training_choices)\n",
    "\n",
    "\n",
    "predictions = my_RNN_classifier.predict(validation_spikes)\n",
    "accuracy = np.sum(predictions == validation_choices) / float(len(predictions))\n",
    "\n",
    "print(\"\\n validation accuracy: {} %\".format(100*accuracy))\n"
   ]
  },
  {
   "cell_type": "markdown",
   "metadata": {
    "colab_type": "text",
    "id": "Bpzpvy6PaKCv"
   },
   "source": [
    "Note that the train accuracy reached about 100% in these 10 epochs, but the validation accuracy is quite low. Sounds like overfitting! We might want to try some regularization, like dropout."
   ]
  },
  {
   "cell_type": "markdown",
   "metadata": {
    "colab_type": "text",
    "id": "Xma2jUT5SqTx"
   },
   "source": [
    "### Excercise 5.1\n",
    "\n",
    "Fit each of the following decoders:\n",
    "\n",
    "1.   A Gated Recurrent Unit (`decoders.GRUClassification`)\n",
    "2.   An LSTM (`decoders.LSTMClassification`)\n",
    "3.   Gradient boosted trees (XGBoost) (`decoders.XGBoostClassification`)\n",
    "\n",
    "\n",
    "\n"
   ]
  },
  {
   "cell_type": "code",
   "execution_count": 0,
   "metadata": {
    "colab": {},
    "colab_type": "code",
    "id": "GvvopGtKaw0k"
   },
   "outputs": [],
   "source": [
    "# GRU\n",
    "\n"
   ]
  },
  {
   "cell_type": "code",
   "execution_count": 0,
   "metadata": {
    "colab": {},
    "colab_type": "code",
    "id": "kaW868Paaw5C"
   },
   "outputs": [],
   "source": [
    "#LSTM\n"
   ]
  },
  {
   "cell_type": "code",
   "execution_count": 0,
   "metadata": {
    "colab": {},
    "colab_type": "code",
    "id": "jjoE3Qo3aw2n"
   },
   "outputs": [],
   "source": [
    "# XGBoost\n",
    "\n",
    "# XGBoost is powerful but does not model time dependencies.\n",
    "# Like for the logistic regression above, we have to flatten\n",
    "# the inputs into shape (n_trials, n_neurons x n_time_bins)\n",
    "\n",
    "flat_train_data = np.reshape(training_spikes, (len(training_spikes),-1))\n",
    "flat_val_data = np.reshape(validation_spikes, (len(validation_spikes),-1))\n",
    "\n",
    "\n",
    "# now train it like above\n",
    "\n",
    "\n"
   ]
  },
  {
   "cell_type": "markdown",
   "metadata": {
    "colab_type": "text",
    "id": "mH2-UxhRLJEg"
   },
   "source": [
    "### Extra credit exercise 1: reduce the dimension of data with PCA\n",
    "\n",
    "Create an instance of PCA (loading the module from scikit-learn). Then, fit it on your training data. Then transform both the validation and train data. (Note that we don't fit the PCA using train data.)\n",
    "\n",
    "You can either reduce the dimension across neurons only, preserving temporal structure, or decide to reduce across all dimensions.\n",
    "\n",
    "Does validation accuracy improve?"
   ]
  },
  {
   "cell_type": "markdown",
   "metadata": {
    "colab_type": "text",
    "id": "8dl5XbyPLdBp"
   },
   "source": [
    "### Extra credit exercise 2: Set up a script to perform k-fold CV\n",
    "\n",
    "Using your favorite methods (e.g. scikit learn) or the script we wrote above, create a method to perform 5-fold cross-validation on the Neuropixels data. The function should take parameters to create a model as input, and it should output the average validation accuracy across the 5 validation sets. "
   ]
  },
  {
   "cell_type": "markdown",
   "metadata": {
    "colab_type": "text",
    "id": "rEpxVLe431kH"
   },
   "source": [
    "### Extra credit exercise 3: find the best decoder\n",
    "\n",
    "Search across methods and hyperparameters for the best decoder. Try hyperopt, or random searches.\n",
    "\n",
    "If you're fancy and have lots of compute time, maybe try automated ML. (e.g. autosklearn)\n"
   ]
  },
  {
   "cell_type": "markdown",
   "metadata": {
    "colab_type": "text",
    "id": "ucHs_lBqSqT7"
   },
   "source": [
    "## Appendix: downloading a Neuropixels session and processing"
   ]
  },
  {
   "cell_type": "markdown",
   "metadata": {
    "colab_type": "text",
    "id": "9jeeJvVLSqT8"
   },
   "source": [
    "This will take about 30 seconds to download the ~600M of data into your working folder, and 10 minutes to run the script."
   ]
  },
  {
   "cell_type": "code",
   "execution_count": 0,
   "metadata": {
    "colab": {},
    "colab_type": "code",
    "id": "SI_K0MRkSqT9"
   },
   "outputs": [],
   "source": [
    "session = \"Cori_2016-12-18/\"\n",
    "\n",
    "!wget -np -r -nv http://data.cortexlab.net/taskData/$session\n",
    "!mv data.cortexlab.net/taskData/ ."
   ]
  },
  {
   "cell_type": "markdown",
   "metadata": {
    "colab_type": "text",
    "id": "XVpyiQmWSqUB"
   },
   "source": [
    "Now we'll extract this data into Python in the form of a dictionary."
   ]
  },
  {
   "cell_type": "code",
   "execution_count": 0,
   "metadata": {
    "colab": {},
    "colab_type": "code",
    "id": "bKqX75s8SqUB"
   },
   "outputs": [],
   "source": [
    "from tqdm import tqdm as tqdm\n",
    "\n",
    "def load_data(session):\n",
    "    \"\"\"Takes a session in relative path ./taskData and loads it as a dictionary.\"\"\"\n",
    "    files = !ls taskData/$session/*.npy\n",
    "    all_files = {}\n",
    "    for file in files:\n",
    "        filename = file.split(\"/\")[1][:-4]\n",
    "        all_files[filename] = np.load(file)\n",
    "    return all_files\n",
    "  \n",
    "def count_neurons(time_interval, all_files):\n",
    "    \"\"\"In this time interval, return the neurons with nonzero spikes, and how many\n",
    "    \n",
    "    Returns (ids, counts)\n",
    "    \"\"\"\n",
    "    \n",
    "    \n",
    "    t1,t2 = time_interval\n",
    "    \n",
    "    trial_spikes = all_files['spikes.times']\n",
    "\n",
    "    interval = (trial_spikes > t1) & (trial_spikes < t2)\n",
    "\n",
    "    trial_spikes = trial_spikes[interval]\n",
    "    ids = all_files['spikes.clusters'][interval]\n",
    "    \n",
    "    # ids has all the info we need\n",
    "    return np.unique(ids, return_counts = True)\n",
    "    \n",
    "    \n",
    "\n",
    "\n",
    "def bin_into_array(all_files, time_before_response=1, n_bins = 50):\n",
    "    \n",
    "    ids = all_files['spikes.clusters']\n",
    "    idList = np.unique(ids)\n",
    "    \n",
    "    n_trials = len(all_files['trials.response_choice'])\n",
    "    n_neurons = len(idList)\n",
    "    \n",
    "    choices = np.reshape(all_files['trials.response_choice'],-1)\n",
    "    data = np.zeros((n_trials, n_neurons, n_bins))\n",
    "    \n",
    "    time_resolution = time_before_response/ float(n_bins)\n",
    "    \n",
    "    for trial in tqdm(range(n_trials)):\n",
    "        end_time = all_files['trials.response_times'][trial]\n",
    "        start_time = end_time - time_before_response\n",
    "        \n",
    "        data.trial\n",
    "        \n",
    "        for b in range(n_bins):\n",
    "        \n",
    "            which_neurons, n_spikes = count_neurons((start_time + b*time_resolution,\n",
    "                                            start_time + (b+1)*time_resolution),\n",
    "                                          all_files)\n",
    "            \n",
    "            data[trial,which_neurons,b] = n_spikes\n",
    "            \n",
    "    return data, choices\n"
   ]
  },
  {
   "cell_type": "code",
   "execution_count": 0,
   "metadata": {
    "colab": {},
    "colab_type": "code",
    "id": "1kmTWMwSSqUD"
   },
   "outputs": [],
   "source": [
    "session = \"Cori_2016-12-18\"\n",
    "all_files = load_data(session)\n",
    "data, choices = bin_into_array(all_files)"
   ]
  },
  {
   "cell_type": "code",
   "execution_count": 0,
   "metadata": {
    "colab": {},
    "colab_type": "code",
    "id": "HJSdc0siSqUF"
   },
   "outputs": [],
   "source": [
    "#clean up the data we aren't using\n",
    "!rm -r data.cortexlab.net/"
   ]
  }
 ],
 "metadata": {
  "colab": {
   "collapsed_sections": [],
   "include_colab_link": true,
   "name": "Neural decoding.ipynb",
   "provenance": [],
   "version": "0.3.2"
  },
  "kernelspec": {
   "display_name": "Python 3",
   "language": "python",
   "name": "python3"
  },
  "language_info": {
   "codemirror_mode": {
    "name": "ipython",
    "version": 3
   },
   "file_extension": ".py",
   "mimetype": "text/x-python",
   "name": "python",
   "nbconvert_exporter": "python",
   "pygments_lexer": "ipython3",
   "version": "3.10.4"
  }
 },
 "nbformat": 4,
 "nbformat_minor": 1
}
